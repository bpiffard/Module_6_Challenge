{
 "cells": [
  {
   "cell_type": "markdown",
   "metadata": {},
   "source": [
    "## Deliverable 3. Create a Travel Itinerary Map."
   ]
  },
  {
   "cell_type": "code",
   "execution_count": 1,
   "metadata": {},
   "outputs": [],
   "source": [
    "# Dependencies and Setup\n",
    "import pandas as pd\n",
    "import requests\n",
    "import gmaps\n",
    "\n",
    "# Import API key\n",
    "from config import g_key\n",
    "\n",
    "# Configure gmaps\n",
    "gmaps.configure(api_key=g_key)"
   ]
  },
  {
   "cell_type": "code",
   "execution_count": 2,
   "metadata": {},
   "outputs": [
    {
     "data": {
      "text/html": [
       "<div>\n",
       "<style scoped>\n",
       "    .dataframe tbody tr th:only-of-type {\n",
       "        vertical-align: middle;\n",
       "    }\n",
       "\n",
       "    .dataframe tbody tr th {\n",
       "        vertical-align: top;\n",
       "    }\n",
       "\n",
       "    .dataframe thead th {\n",
       "        text-align: right;\n",
       "    }\n",
       "</style>\n",
       "<table border=\"1\" class=\"dataframe\">\n",
       "  <thead>\n",
       "    <tr style=\"text-align: right;\">\n",
       "      <th></th>\n",
       "      <th>City_ID</th>\n",
       "      <th>City</th>\n",
       "      <th>Country</th>\n",
       "      <th>Max Temp</th>\n",
       "      <th>Current Description</th>\n",
       "      <th>Lat</th>\n",
       "      <th>Lng</th>\n",
       "      <th>Hotel Name</th>\n",
       "    </tr>\n",
       "  </thead>\n",
       "  <tbody>\n",
       "    <tr>\n",
       "      <th>0</th>\n",
       "      <td>1</td>\n",
       "      <td>Namatanai</td>\n",
       "      <td>PG</td>\n",
       "      <td>82.71</td>\n",
       "      <td>moderate rain</td>\n",
       "      <td>-3.6667</td>\n",
       "      <td>152.4333</td>\n",
       "      <td>Seagulls Inn Namatani</td>\n",
       "    </tr>\n",
       "    <tr>\n",
       "      <th>1</th>\n",
       "      <td>7</td>\n",
       "      <td>Cabo San Lucas</td>\n",
       "      <td>MX</td>\n",
       "      <td>80.26</td>\n",
       "      <td>clear sky</td>\n",
       "      <td>22.8909</td>\n",
       "      <td>-109.9124</td>\n",
       "      <td>Hotel Tesoro Los Cabos</td>\n",
       "    </tr>\n",
       "    <tr>\n",
       "      <th>2</th>\n",
       "      <td>8</td>\n",
       "      <td>Iracoubo</td>\n",
       "      <td>GF</td>\n",
       "      <td>77.20</td>\n",
       "      <td>overcast clouds</td>\n",
       "      <td>5.4802</td>\n",
       "      <td>-53.2011</td>\n",
       "      <td>Le Gîte d’Iracoubo</td>\n",
       "    </tr>\n",
       "    <tr>\n",
       "      <th>3</th>\n",
       "      <td>12</td>\n",
       "      <td>Puerto Ayora</td>\n",
       "      <td>EC</td>\n",
       "      <td>69.55</td>\n",
       "      <td>broken clouds</td>\n",
       "      <td>-0.7393</td>\n",
       "      <td>-90.3518</td>\n",
       "      <td>Finch Bay Galapagos Hotel</td>\n",
       "    </tr>\n",
       "    <tr>\n",
       "      <th>4</th>\n",
       "      <td>13</td>\n",
       "      <td>Rikitea</td>\n",
       "      <td>PF</td>\n",
       "      <td>74.39</td>\n",
       "      <td>few clouds</td>\n",
       "      <td>-23.1203</td>\n",
       "      <td>-134.9692</td>\n",
       "      <td>People ThankYou</td>\n",
       "    </tr>\n",
       "  </tbody>\n",
       "</table>\n",
       "</div>"
      ],
      "text/plain": [
       "   City_ID            City Country  Max Temp Current Description      Lat  \\\n",
       "0        1       Namatanai      PG     82.71       moderate rain  -3.6667   \n",
       "1        7  Cabo San Lucas      MX     80.26           clear sky  22.8909   \n",
       "2        8        Iracoubo      GF     77.20     overcast clouds   5.4802   \n",
       "3       12    Puerto Ayora      EC     69.55       broken clouds  -0.7393   \n",
       "4       13         Rikitea      PF     74.39          few clouds -23.1203   \n",
       "\n",
       "        Lng                 Hotel Name  \n",
       "0  152.4333      Seagulls Inn Namatani  \n",
       "1 -109.9124     Hotel Tesoro Los Cabos  \n",
       "2  -53.2011         Le Gîte d’Iracoubo  \n",
       "3  -90.3518  Finch Bay Galapagos Hotel  \n",
       "4 -134.9692            People ThankYou  "
      ]
     },
     "execution_count": 2,
     "metadata": {},
     "output_type": "execute_result"
    }
   ],
   "source": [
    "# 1. Read the WeatherPy_vacation.csv into a DataFrame.\n",
    "vacation_df = pd.read_csv(\"../Vacation_Search/WeatherPy_vacation.csv\")\n",
    "vacation_df.head()"
   ]
  },
  {
   "cell_type": "code",
   "execution_count": 3,
   "metadata": {},
   "outputs": [],
   "source": [
    "# 2. Using the template add the city name, the country code, the weather description and maximum temperature for the city.\n",
    "# The example picture on the module shows Hotel so I added that as well\n",
    "info_box_template = \"\"\"\n",
    "<dl>\n",
    "<dt><b>Hotel Name</b></dt><dd>{Hotel Name}</dd>\n",
    "<dt><b>City Name</b></dt><dd>{City}</dd>\n",
    "<dt><b>Country Code</b></dt><dd>{Country}</dd>\n",
    "<dt><b>Weather Description</b></dt><dd>{Current Description}</dd>\n",
    "<dt><b>Max Temp</b></dt><dd>{Max Temp} °F</dd>\n",
    "\"\"\"\n",
    "\n",
    "# 3a. Get the data from each row and add it to the formatting template and store the data in a list.\n",
    "hotel_info = [info_box_template.format(**row) for index, row in vacation_df.iterrows()]\n",
    "\n",
    "# 3b. Get the latitude and longitude from each row and store in a new DataFrame.\n",
    "locations = vacation_df[[\"Lat\", \"Lng\"]]"
   ]
  },
  {
   "cell_type": "code",
   "execution_count": 4,
   "metadata": {},
   "outputs": [
    {
     "data": {
      "application/vnd.jupyter.widget-view+json": {
       "model_id": "0adbbf68ea8d4c9b8c303523a0028cd4",
       "version_major": 2,
       "version_minor": 0
      },
      "text/plain": [
       "Figure(layout=FigureLayout(height='420px'))"
      ]
     },
     "metadata": {},
     "output_type": "display_data"
    }
   ],
   "source": [
    "# 4a. Add a marker layer for each city to the map.\n",
    "fig = gmaps.figure(center=(30.0, 31.0), zoom_level=1.5)\n",
    "marker_layer = gmaps.marker_layer(locations, info_box_content=hotel_info)\n",
    "fig.add_layer(marker_layer)\n",
    "\n",
    "# 4b. Display the figure\n",
    "fig"
   ]
  },
  {
   "cell_type": "code",
   "execution_count": 5,
   "metadata": {},
   "outputs": [],
   "source": [
    "# From the map above pick 4 cities and create a vacation itinerary route to travel between the four cities.\n",
    "# Four cities are \n",
    "    # 1 Coyotepec \n",
    "    # 2 Guanajuato\n",
    "    # 3 Las Varas\n",
    "    # 4 Ixtapa\n",
    "# 5. Create DataFrames for each city by filtering the 'vacation_df' using the loc method. \n",
    "# Hint: The starting and ending city should be the same city.\n",
    "\n",
    "vacation_start = vacation_df.loc[vacation_df[\"City\"] == \"Coyotepec\"]\n",
    "vacation_end = vacation_df.loc[vacation_df[\"City\"] == \"Coyotepec\"]\n",
    "vacation_stop1 = vacation_df.loc[vacation_df[\"City\"] == \"Guanajuato\"]\n",
    "vacation_stop2 = vacation_df.loc[vacation_df[\"City\"] == \"Las Varas\"] \n",
    "vacation_stop3 = vacation_df.loc[vacation_df[\"City\"] == \"Ixtapa\"] "
   ]
  },
  {
   "cell_type": "code",
   "execution_count": 6,
   "metadata": {},
   "outputs": [],
   "source": [
    "# 6. Get the latitude-longitude pairs as tuples from each city DataFrame using the to_numpy function and list indexing.\n",
    "start = vacation_start[\"Lat\"].to_numpy()[0], vacation_start[\"Lng\"].to_numpy()[0]\n",
    "end = vacation_end[\"Lat\"].to_numpy()[0], vacation_end[\"Lng\"].to_numpy()[0]\n",
    "stop1 = vacation_stop1[\"Lat\"].to_numpy()[0], vacation_stop1[\"Lng\"].to_numpy()[0]\n",
    "stop2 = vacation_stop2[\"Lat\"].to_numpy()[0], vacation_stop2[\"Lng\"].to_numpy()[0] \n",
    "stop3 = vacation_stop3[\"Lat\"].to_numpy()[0], vacation_stop3[\"Lng\"].to_numpy()[0]"
   ]
  },
  {
   "cell_type": "code",
   "execution_count": 7,
   "metadata": {
    "scrolled": true
   },
   "outputs": [
    {
     "data": {
      "application/vnd.jupyter.widget-view+json": {
       "model_id": "706eb4fec1f24dbea25c0599a1ffc344",
       "version_major": 2,
       "version_minor": 0
      },
      "text/plain": [
       "Figure(layout=FigureLayout(height='420px'))"
      ]
     },
     "metadata": {},
     "output_type": "display_data"
    }
   ],
   "source": [
    "# 7. Create a direction layer map using the start and end latitude-longitude pairs,\n",
    "# and stop1, stop2, and stop3 as the waypoints. The travel_mode should be \"DRIVING\", \"BICYCLING\", or \"WALKING\".\n",
    "# Creating the map\n",
    "fig = gmaps.figure()\n",
    "\n",
    "# Creating the waypoints layer and adding it to the figure\n",
    "vacation_itinerary = gmaps.directions_layer(\n",
    "    start, end, waypoints=[stop1, stop2, stop3], travel_mode = \"DRIVING\"\n",
    ")\n",
    "fig.add_layer(vacation_itinerary)\n",
    "\n",
    "fig"
   ]
  },
  {
   "cell_type": "code",
   "execution_count": 8,
   "metadata": {},
   "outputs": [
    {
     "data": {
      "text/html": [
       "<div>\n",
       "<style scoped>\n",
       "    .dataframe tbody tr th:only-of-type {\n",
       "        vertical-align: middle;\n",
       "    }\n",
       "\n",
       "    .dataframe tbody tr th {\n",
       "        vertical-align: top;\n",
       "    }\n",
       "\n",
       "    .dataframe thead th {\n",
       "        text-align: right;\n",
       "    }\n",
       "</style>\n",
       "<table border=\"1\" class=\"dataframe\">\n",
       "  <thead>\n",
       "    <tr style=\"text-align: right;\">\n",
       "      <th></th>\n",
       "      <th>City_ID</th>\n",
       "      <th>City</th>\n",
       "      <th>Country</th>\n",
       "      <th>Max Temp</th>\n",
       "      <th>Current Description</th>\n",
       "      <th>Lat</th>\n",
       "      <th>Lng</th>\n",
       "      <th>Hotel Name</th>\n",
       "    </tr>\n",
       "  </thead>\n",
       "  <tbody>\n",
       "    <tr>\n",
       "      <th>0</th>\n",
       "      <td>209</td>\n",
       "      <td>Coyotepec</td>\n",
       "      <td>MX</td>\n",
       "      <td>65.32</td>\n",
       "      <td>overcast clouds</td>\n",
       "      <td>19.7750</td>\n",
       "      <td>-99.2072</td>\n",
       "      <td>2 Fridas</td>\n",
       "    </tr>\n",
       "    <tr>\n",
       "      <th>1</th>\n",
       "      <td>209</td>\n",
       "      <td>Coyotepec</td>\n",
       "      <td>MX</td>\n",
       "      <td>65.32</td>\n",
       "      <td>overcast clouds</td>\n",
       "      <td>19.7750</td>\n",
       "      <td>-99.2072</td>\n",
       "      <td>2 Fridas</td>\n",
       "    </tr>\n",
       "    <tr>\n",
       "      <th>2</th>\n",
       "      <td>221</td>\n",
       "      <td>Guanajuato</td>\n",
       "      <td>MX</td>\n",
       "      <td>65.19</td>\n",
       "      <td>clear sky</td>\n",
       "      <td>21.0186</td>\n",
       "      <td>-101.2591</td>\n",
       "      <td>Hotel Posada Santa Fe</td>\n",
       "    </tr>\n",
       "    <tr>\n",
       "      <th>3</th>\n",
       "      <td>484</td>\n",
       "      <td>Las Varas</td>\n",
       "      <td>MX</td>\n",
       "      <td>81.03</td>\n",
       "      <td>broken clouds</td>\n",
       "      <td>21.1667</td>\n",
       "      <td>-105.1667</td>\n",
       "      <td>Casa Palapas</td>\n",
       "    </tr>\n",
       "    <tr>\n",
       "      <th>4</th>\n",
       "      <td>250</td>\n",
       "      <td>Ixtapa</td>\n",
       "      <td>MX</td>\n",
       "      <td>83.23</td>\n",
       "      <td>broken clouds</td>\n",
       "      <td>20.7000</td>\n",
       "      <td>-105.2000</td>\n",
       "      <td>hotel la terminal</td>\n",
       "    </tr>\n",
       "  </tbody>\n",
       "</table>\n",
       "</div>"
      ],
      "text/plain": [
       "   City_ID        City Country  Max Temp Current Description      Lat  \\\n",
       "0      209   Coyotepec      MX     65.32     overcast clouds  19.7750   \n",
       "1      209   Coyotepec      MX     65.32     overcast clouds  19.7750   \n",
       "2      221  Guanajuato      MX     65.19           clear sky  21.0186   \n",
       "3      484   Las Varas      MX     81.03       broken clouds  21.1667   \n",
       "4      250      Ixtapa      MX     83.23       broken clouds  20.7000   \n",
       "\n",
       "        Lng             Hotel Name  \n",
       "0  -99.2072               2 Fridas  \n",
       "1  -99.2072               2 Fridas  \n",
       "2 -101.2591  Hotel Posada Santa Fe  \n",
       "3 -105.1667           Casa Palapas  \n",
       "4 -105.2000      hotel la terminal  "
      ]
     },
     "execution_count": 8,
     "metadata": {},
     "output_type": "execute_result"
    }
   ],
   "source": [
    "# 8. To create a marker layer map between the four cities.\n",
    "#  Combine the four city DataFrames into one DataFrame using the concat() function.\n",
    "itinerary_df = pd.concat([vacation_start, vacation_end, vacation_stop1, vacation_stop2, vacation_stop3],ignore_index=True)\n",
    "itinerary_df"
   ]
  },
  {
   "cell_type": "code",
   "execution_count": 9,
   "metadata": {},
   "outputs": [],
   "source": [
    "# 9 Using the template add city name, the country code, the weather description and maximum temperature for the city. \n",
    "#info_box_template = \"\"\"\n",
    "#<dl>\n",
    "#<dt><b>Hotel Name</b></dt><dd>{Hotel Name}</dd>\n",
    "#<dt><b>City Name</b></dt><dd>{City}</dd>\n",
    "#<dt><b>Country Code</b></dt><dd>{Country}</dd>\n",
    "#<dt><b>Weather Description</b></dt><dd>{Current Description}</dd>\n",
    "#<dt><b>Max Temp</b></dt><dd>{Max Temp} °F<\n",
    "#\"\"\"\n",
    "\n",
    "# 10a Get the data from each row and add it to the formatting template and store the data in a list.\n",
    "hotel_info = [info_box_template.format(**row) for index, row in itinerary_df.iterrows()]\n",
    "\n",
    "# 10b. Get the latitude and longitude from each row and store in a new DataFrame.\n",
    "locations = itinerary_df[[\"Lat\", \"Lng\"]]"
   ]
  },
  {
   "cell_type": "code",
   "execution_count": 10,
   "metadata": {},
   "outputs": [
    {
     "data": {
      "application/vnd.jupyter.widget-view+json": {
       "model_id": "e09de69b630043c18fcfa633cb61f8f6",
       "version_major": 2,
       "version_minor": 0
      },
      "text/plain": [
       "Figure(layout=FigureLayout(height='420px'))"
      ]
     },
     "metadata": {},
     "output_type": "display_data"
    }
   ],
   "source": [
    "# 11a. Add a marker layer for each city to the map.\n",
    "# Creating the map\n",
    "fig = gmaps.figure()\n",
    "\n",
    "marker_layer = gmaps.marker_layer(locations, info_box_content=hotel_info)\n",
    "fig.add_layer(marker_layer)\n",
    "# 11b. Display the figure\n",
    "fig"
   ]
  },
  {
   "cell_type": "code",
   "execution_count": null,
   "metadata": {},
   "outputs": [],
   "source": []
  }
 ],
 "metadata": {
  "kernelspec": {
   "display_name": "PythonData",
   "language": "python",
   "name": "pythondata"
  },
  "language_info": {
   "codemirror_mode": {
    "name": "ipython",
    "version": 3
   },
   "file_extension": ".py",
   "mimetype": "text/x-python",
   "name": "python",
   "nbconvert_exporter": "python",
   "pygments_lexer": "ipython3",
   "version": "3.7.13"
  },
  "latex_envs": {
   "LaTeX_envs_menu_present": true,
   "autoclose": false,
   "autocomplete": true,
   "bibliofile": "biblio.bib",
   "cite_by": "apalike",
   "current_citInitial": 1,
   "eqLabelWithNumbers": true,
   "eqNumInitial": 1,
   "hotkeys": {
    "equation": "Ctrl-E",
    "itemize": "Ctrl-I"
   },
   "labels_anchors": false,
   "latex_user_defs": false,
   "report_style_numbering": false,
   "user_envs_cfg": false
  }
 },
 "nbformat": 4,
 "nbformat_minor": 2
}
